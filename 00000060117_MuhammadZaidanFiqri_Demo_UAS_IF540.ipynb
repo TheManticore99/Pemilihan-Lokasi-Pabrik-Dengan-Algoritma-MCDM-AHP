{
 "cells": [
  {
   "cell_type": "code",
   "execution_count": 3,
   "id": "2634b45b",
   "metadata": {
    "scrolled": true
   },
   "outputs": [
    {
     "name": "stdout",
     "output_type": "stream",
     "text": [
      "\n",
      "Matriks Perbandingan Kriteria:\n",
      "[[0.         4.52757794 0.64261402 1.23479398 0.58488228]\n",
      " [0.22086864 0.         0.14193329 0.27272727 0.12918216]\n",
      " [1.55614407 7.04556355 0.         1.92151733 0.91016109]\n",
      " [0.80985169 3.66666667 0.52042206 0.         0.47366791]\n",
      " [1.70974576 7.74100719 1.0987066  2.11118378 0.        ]]\n",
      "\n",
      "Hasil Analisis AHP:\n",
      "Nilai Eigen: 0.2\n",
      "Vektor Prioritas Global: [0.2 0.2 0.2 0.2 0.2]\n",
      "Rasio Konsistensi (Opsional): 0.5499650574681881\n",
      "\n",
      "Bobot Kriteria:\n",
      "[0.2 0.2 0.2 0.2 0.2]\n"
     ]
    }
   ],
   "source": [
    "import numpy as np\n",
    "\n",
    "def get_numeric_input(prompt):\n",
    "    while True:\n",
    "        try:\n",
    "            value = float(input(prompt))\n",
    "            return value\n",
    "        except ValueError:\n",
    "            print(\"Masukkan harus berupa angka. Silakan coba lagi.\")\n",
    "\n",
    "def calculate_criteria_comparison_matrix(criteria_weights):\n",
    "    criteria_count = len(criteria_weights)\n",
    "    comparison_matrix = np.zeros((criteria_count, criteria_count))\n",
    "\n",
    "    for i in range(criteria_count):\n",
    "        for j in range(i + 1, criteria_count):\n",
    "            comparison_matrix[i, j] = criteria_weights[i] / criteria_weights[j]\n",
    "            comparison_matrix[j, i] = criteria_weights[j] / criteria_weights[i]\n",
    "\n",
    "    return comparison_matrix\n",
    "\n",
    "def calculate_ahp(comparison_matrix):\n",
    "    # Step 1: Hitung Jumlah Baris Matriks\n",
    "    row_sums = comparison_matrix.sum(axis=1)\n",
    "\n",
    "    # Step 2: Normalisasi Matriks\n",
    "    normalized_matrix = comparison_matrix / row_sums[:, np.newaxis]\n",
    "\n",
    "    # Step 3: Hitung Vektor Eigen\n",
    "    eigen_vector = normalized_matrix.mean(axis=1)\n",
    "\n",
    "    # Step 4: Hitung Nilai Eigen\n",
    "    eigen_value = eigen_vector.mean()\n",
    "\n",
    "    # Step 5: Hitung Konsistensi (Opsional)\n",
    "    n = comparison_matrix.shape[0]\n",
    "    weighted_sum = np.dot(comparison_matrix, eigen_vector)\n",
    "    lambda_max = np.sum(weighted_sum / eigen_vector) / n\n",
    "    consistency_index = (lambda_max - n) / (n - 1)\n",
    "    random_index = {3: 0.58, 4: 0.90, 5: 1.12, 6: 1.24, 7: 1.32, 8: 1.41, 9: 1.45}\n",
    "    consistency_ratio = consistency_index / random_index[n]\n",
    "\n",
    "    # Step 6: Hitung Vektor Prioritas Global\n",
    "    global_priority_vector = eigen_vector / eigen_vector.sum()\n",
    "\n",
    "    return eigen_value, global_priority_vector, consistency_ratio\n",
    "\n",
    "def determine_weights(eigen_value, criteria_count):\n",
    "    weights = np.full(criteria_count, eigen_value ** (1 / criteria_count))\n",
    "    normalized_weights = weights / sum(weights)\n",
    "    return normalized_weights\n",
    "\n",
    "# Menentukan bobot kriteria dari pengguna\n",
    "criteria_weights = [0.1888, 0.0417, 0.2938, 0.1529, 0.3228]\n",
    "\n",
    "# Menghitung matriks perbandingan kriteria\n",
    "comparison_matrix = calculate_criteria_comparison_matrix(criteria_weights)\n",
    "\n",
    "# Menghitung AHP\n",
    "eigen_value, global_priority_vector, consistency_ratio = calculate_ahp(comparison_matrix)\n",
    "\n",
    "# Menampilkan hasil AHP\n",
    "print(\"\\nMatriks Perbandingan Kriteria:\")\n",
    "print(comparison_matrix)\n",
    "print(\"\\nHasil Analisis AHP:\")\n",
    "print(f\"Nilai Eigen: {eigen_value}\")\n",
    "print(f\"Vektor Prioritas Global: {global_priority_vector}\")\n",
    "print(f\"Rasio Konsistensi (Opsional): {consistency_ratio}\")\n",
    "\n",
    "# Menentukan bobot\n",
    "weights = determine_weights(eigen_value, len(criteria_weights))\n",
    "\n",
    "# Menampilkan bobot\n",
    "print(\"\\nBobot Kriteria:\")\n",
    "print(weights)\n"
   ]
  },
  {
   "cell_type": "code",
   "execution_count": 4,
   "id": "1faeeaa0",
   "metadata": {},
   "outputs": [],
   "source": [
    "criteria_comparison_matrix = np.array([\n",
    "    [1, 3, 0.2, 0.2, 3],\n",
    "    [1/3, 1, 0.14, 1/3, 1/3],\n",
    "    [5, 7, 1, 5, 0.2],\n",
    "    [5, 3, 0.2, 1, 0.2],\n",
    "    [1/3, 3, 5, 5, 1]\n",
    "])\n"
   ]
  },
  {
   "cell_type": "code",
   "execution_count": 5,
   "id": "238d84ec",
   "metadata": {},
   "outputs": [],
   "source": [
    "row_sums = criteria_comparison_matrix.sum(axis=1)\n",
    "normalized_matrix = criteria_comparison_matrix / row_sums[:, np.newaxis]\n"
   ]
  },
  {
   "cell_type": "code",
   "execution_count": 6,
   "id": "8618fc5b",
   "metadata": {},
   "outputs": [],
   "source": [
    "weights = np.array([0.1888, 0.0417, 0.2938, 0.1529, 0.3228])\n",
    "weighted_normalized_matrix = normalized_matrix * weights\n"
   ]
  },
  {
   "cell_type": "code",
   "execution_count": 7,
   "id": "08fcd34f",
   "metadata": {},
   "outputs": [],
   "source": [
    "alternative_scores = weighted_normalized_matrix.sum(axis=1)\n"
   ]
  },
  {
   "cell_type": "code",
   "execution_count": 8,
   "id": "0a686932",
   "metadata": {},
   "outputs": [
    {
     "name": "stdout",
     "output_type": "stream",
     "text": [
      "\n",
      "Matriks Perbandingan Kriteria:\n",
      "[[1.         3.         0.2        0.2        3.        ]\n",
      " [0.33333333 1.         0.14       0.33333333 0.33333333]\n",
      " [5.         7.         1.         5.         0.2       ]\n",
      " [5.         3.         0.2        1.         0.2       ]\n",
      " [0.33333333 3.         5.         5.         1.        ]]\n",
      "\n",
      "Matriks Normalisasi:\n",
      "[[0.13513514 0.40540541 0.02702703 0.02702703 0.40540541]\n",
      " [0.15576324 0.46728972 0.06542056 0.15576324 0.15576324]\n",
      " [0.27472527 0.38461538 0.05494505 0.27472527 0.01098901]\n",
      " [0.53191489 0.31914894 0.0212766  0.10638298 0.0212766 ]\n",
      " [0.02325581 0.20930233 0.34883721 0.34883721 0.06976744]]\n",
      "\n",
      "Bobot Kriteria:\n",
      "[0.1888 0.0417 0.2938 0.1529 0.3228]\n",
      "\n",
      "Matriks Normalisasi Terbobot:\n",
      "[[0.02551351 0.01690541 0.00794054 0.00413243 0.13086486]\n",
      " [0.0294081  0.01948598 0.01922056 0.0238162  0.05028037]\n",
      " [0.05186813 0.01603846 0.01614286 0.04200549 0.00354725]\n",
      " [0.10042553 0.01330851 0.00625106 0.01626596 0.00686809]\n",
      " [0.0043907  0.00872791 0.10248837 0.05333721 0.02252093]]\n",
      "\n",
      "Nilai Alternatif terhadap Kriteria:\n",
      "[0.18535676 0.14221121 0.1296022  0.14311915 0.19146512]\n"
     ]
    }
   ],
   "source": [
    "import numpy as np\n",
    "\n",
    "# Define the pairwise comparison matrix for the criteria\n",
    "criteria_comparison_matrix = np.array([\n",
    "    [1, 3, 0.2, 0.2, 3],\n",
    "    [1/3, 1, 0.14, 1/3, 1/3],\n",
    "    [5, 7, 1, 5, 0.2],\n",
    "    [5, 3, 0.2, 1, 0.2],\n",
    "    [1/3, 3, 5, 5, 1]\n",
    "])\n",
    "\n",
    "# Calculate the normalized matrix\n",
    "row_sums = criteria_comparison_matrix.sum(axis=1)\n",
    "normalized_matrix = criteria_comparison_matrix / row_sums[:, np.newaxis]\n",
    "\n",
    "# Define the weights for the criteria\n",
    "weights = np.array([0.1888, 0.0417, 0.2938, 0.1529, 0.3228])\n",
    "\n",
    "# Calculate the weighted normalized matrix\n",
    "weighted_normalized_matrix = normalized_matrix * weights\n",
    "\n",
    "# Calculate the alternative scores\n",
    "alternative_scores = weighted_normalized_matrix.sum(axis=1)\n",
    "\n",
    "# Display the results\n",
    "print(\"\\nMatriks Perbandingan Kriteria:\")\n",
    "print(criteria_comparison_matrix)\n",
    "print(\"\\nMatriks Normalisasi:\")\n",
    "print(normalized_matrix)\n",
    "print(\"\\nBobot Kriteria:\")\n",
    "print(weights)\n",
    "print(\"\\nMatriks Normalisasi Terbobot:\")\n",
    "print(weighted_normalized_matrix)\n",
    "print(\"\\nNilai Alternatif terhadap Kriteria:\")\n",
    "print(alternative_scores)\n"
   ]
  },
  {
   "cell_type": "code",
   "execution_count": null,
   "id": "378c577b",
   "metadata": {},
   "outputs": [],
   "source": [
    "#numb3"
   ]
  },
  {
   "cell_type": "code",
   "execution_count": 9,
   "id": "15953d2f",
   "metadata": {},
   "outputs": [
    {
     "name": "stdout",
     "output_type": "stream",
     "text": [
      "\n",
      "Matriks Nilai Kriteria (Normalisasi Nilai Eigen):\n",
      "[[0.0857 0.1765 0.0306 0.0173 0.6338]\n",
      " [0.0286 0.0588 0.0218 0.0289 0.0704]\n",
      " [0.4286 0.4118 0.1528 0.4335 0.0423]\n",
      " [0.4286 0.1765 0.0306 0.0867 0.0423]\n",
      " [0.0286 0.1765 0.7642 0.4335 0.2113]]\n",
      "\n",
      "Bobot Kriteria:\n",
      "[0.1888 0.0417 0.2938 0.1529 0.3228]\n",
      "\n",
      "Skor Relatif:\n",
      "[0.2397663  0.04140041 0.22292097 0.12418088 0.37177148]\n",
      "\n",
      "Konsistensi Ratio:\n",
      "1.00004004\n"
     ]
    }
   ],
   "source": [
    "import numpy as np\n",
    "\n",
    "# Define the matrix of normalized eigenvalues\n",
    "normalized_eigenvalues_matrix = np.array([\n",
    "    [0.0857, 0.1765, 0.0306, 0.0173, 0.6338],\n",
    "    [0.0286, 0.0588, 0.0218, 0.0289, 0.0704],\n",
    "    [0.4286, 0.4118, 0.1528, 0.4335, 0.0423],\n",
    "    [0.4286, 0.1765, 0.0306, 0.0867, 0.0423],\n",
    "    [0.0286, 0.1765, 0.7642, 0.4335, 0.2113]\n",
    "])\n",
    "\n",
    "# Define the weights for the criteria\n",
    "weights = np.array([0.1888, 0.0417, 0.2938, 0.1529, 0.3228])\n",
    "\n",
    "# Calculate the relative scores\n",
    "relative_scores = np.dot(normalized_eigenvalues_matrix, weights)\n",
    "\n",
    "# Calculate the consistency ratio\n",
    "consistency_ratio = np.sum(relative_scores) / np.sum(weights)\n",
    "\n",
    "# Display the results\n",
    "print(\"\\nMatriks Nilai Kriteria (Normalisasi Nilai Eigen):\")\n",
    "print(normalized_eigenvalues_matrix)\n",
    "print(\"\\nBobot Kriteria:\")\n",
    "print(weights)\n",
    "print(\"\\nSkor Relatif:\")\n",
    "print(relative_scores)\n",
    "print(\"\\nKonsistensi Ratio:\")\n",
    "print(consistency_ratio)\n"
   ]
  },
  {
   "cell_type": "code",
   "execution_count": 10,
   "id": "168ac451",
   "metadata": {},
   "outputs": [
    {
     "name": "stdout",
     "output_type": "stream",
     "text": [
      "\n",
      "Perbandingan Alternatif Kriteria Biaya Tanah:\n",
      "[[1.   0.2  0.17]\n",
      " [5.   1.   3.  ]\n",
      " [6.   0.33 1.  ]]\n",
      "\n",
      "Matriks Normalisasi:\n",
      "[[0.72992701 0.1459854  0.12408759]\n",
      " [0.55555556 0.11111111 0.33333333]\n",
      " [0.81855389 0.04502046 0.13642565]]\n",
      "\n",
      "Priority Vector:\n",
      "[0.33333333 0.33333333 0.33333333]\n"
     ]
    }
   ],
   "source": [
    "import numpy as np\n",
    "\n",
    "# Define the pairwise comparison matrix for alternative locations based on Biaya Tanah\n",
    "comparison_matrix_biaya_tanah = np.array([\n",
    "    [1, 0.2, 0.17],\n",
    "    [5, 1, 3],\n",
    "    [6, 0.33, 1]\n",
    "])\n",
    "\n",
    "# Calculate the normalized matrix\n",
    "row_sums_biaya_tanah = comparison_matrix_biaya_tanah.sum(axis=1)\n",
    "normalized_matrix_biaya_tanah = comparison_matrix_biaya_tanah / row_sums_biaya_tanah[:, np.newaxis]\n",
    "\n",
    "# Calculate the priority vector\n",
    "priority_vector_biaya_tanah = normalized_matrix_biaya_tanah.mean(axis=1)\n",
    "\n",
    "# Display the results\n",
    "print(\"\\nPerbandingan Alternatif Kriteria Biaya Tanah:\")\n",
    "print(comparison_matrix_biaya_tanah)\n",
    "print(\"\\nMatriks Normalisasi:\")\n",
    "print(normalized_matrix_biaya_tanah)\n",
    "print(\"\\nPriority Vector:\")\n",
    "print(priority_vector_biaya_tanah)\n"
   ]
  },
  {
   "cell_type": "code",
   "execution_count": 11,
   "id": "279c6a1e",
   "metadata": {},
   "outputs": [
    {
     "name": "stdout",
     "output_type": "stream",
     "text": [
      "\n",
      "Perbandingan Alternatif Kriteria Aksebilitas:\n",
      "[[1.   0.33 0.14]\n",
      " [3.   1.   5.  ]\n",
      " [7.   0.2  1.  ]]\n",
      "\n",
      "Matriks Normalisasi:\n",
      "[[0.68027211 0.2244898  0.0952381 ]\n",
      " [0.33333333 0.11111111 0.55555556]\n",
      " [0.85365854 0.02439024 0.12195122]]\n",
      "\n",
      "Jumlah Bobot Pada Alternatif Kriteria Aksebilitas:\n",
      "[1.86726398 0.35999115 0.77274487]\n"
     ]
    }
   ],
   "source": [
    "import numpy as np\n",
    "\n",
    "# Define the pairwise comparison matrix for alternative locations based on Aksebilitas\n",
    "comparison_matrix_aksebilitas = np.array([\n",
    "    [1, 0.33, 0.14],\n",
    "    [3, 1, 5],\n",
    "    [7, 0.2, 1]\n",
    "])\n",
    "\n",
    "# Calculate the normalized matrix\n",
    "row_sums_aksebilitas = comparison_matrix_aksebilitas.sum(axis=1)\n",
    "normalized_matrix_aksebilitas = comparison_matrix_aksebilitas / row_sums_aksebilitas[:, np.newaxis]\n",
    "\n",
    "# Calculate the sum of weights\n",
    "sum_of_weights_aksebilitas = normalized_matrix_aksebilitas.sum(axis=0)\n",
    "\n",
    "# Display the results\n",
    "print(\"\\nPerbandingan Alternatif Kriteria Aksebilitas:\")\n",
    "print(comparison_matrix_aksebilitas)\n",
    "print(\"\\nMatriks Normalisasi:\")\n",
    "print(normalized_matrix_aksebilitas)\n",
    "print(\"\\nJumlah Bobot Pada Alternatif Kriteria Aksebilitas:\")\n",
    "print(sum_of_weights_aksebilitas)\n"
   ]
  },
  {
   "cell_type": "code",
   "execution_count": 12,
   "id": "0b854606",
   "metadata": {},
   "outputs": [
    {
     "name": "stdout",
     "output_type": "stream",
     "text": [
      "\n",
      "Matriks Nilai Alternatif Dalam Kriteria Aksebilitas (Normalisasi Nilai Eigen):\n",
      "[[0.0909  0.2174  0.02333]\n",
      " [0.2727  0.6522  0.814  ]\n",
      " [0.6364  0.3104  0.1628 ]]\n",
      "\n",
      "Jumlah Bobot Pada Alternatif Kriteria Aksebilitas:\n",
      "[1.      1.18    1.00013]\n",
      "\n",
      "Prioritas Vector:\n",
      "[0.31445255 0.37105401 0.31449343]\n"
     ]
    }
   ],
   "source": [
    "import numpy as np\n",
    "\n",
    "# Define the normalized matrix for alternative locations based on Aksebilitas\n",
    "normalized_matrix_aksebilitas = np.array([\n",
    "    [0.0909, 0.2174, 0.02333],\n",
    "    [0.2727, 0.6522, 0.814],\n",
    "    [0.6364, 0.3104, 0.1628]\n",
    "])\n",
    "\n",
    "# Calculate the sum of weights\n",
    "sum_of_weights_aksebilitas = normalized_matrix_aksebilitas.sum(axis=0)\n",
    "\n",
    "# Calculate the priority vector\n",
    "priority_vector_aksebilitas = sum_of_weights_aksebilitas / sum(sum_of_weights_aksebilitas)\n",
    "\n",
    "# Display the results\n",
    "print(\"\\nMatriks Nilai Alternatif Dalam Kriteria Aksebilitas (Normalisasi Nilai Eigen):\")\n",
    "print(normalized_matrix_aksebilitas)\n",
    "print(\"\\nJumlah Bobot Pada Alternatif Kriteria Aksebilitas:\")\n",
    "print(sum_of_weights_aksebilitas)\n",
    "print(\"\\nPrioritas Vector:\")\n",
    "print(priority_vector_aksebilitas)\n"
   ]
  },
  {
   "cell_type": "code",
   "execution_count": 13,
   "id": "4eae25af",
   "metadata": {},
   "outputs": [
    {
     "name": "stdout",
     "output_type": "stream",
     "text": [
      "\n",
      "Matriks Nilai Alternatif Dalam Kriteria Biaya Tenaga Kerja (Normalisasi Nilai Eigen):\n",
      "[[0.7317 0.4286 0.814 ]\n",
      " [0.122  0.0714 0.0233]\n",
      " [0.1463 0.5    0.1628]]\n",
      "\n",
      "Jumlah Bobot Pada Alternatif Kriteria Biaya Tenaga Kerja:\n",
      "[1.     1.     1.0001]\n",
      "\n",
      "Prioritas Vector:\n",
      "[0.33332222 0.33332222 0.33335555]\n"
     ]
    }
   ],
   "source": [
    "import numpy as np\n",
    "\n",
    "# Define the normalized matrix for alternative locations based on Biaya Tenaga Kerja\n",
    "normalized_matrix_biaya_tenaga_kerja = np.array([\n",
    "    [0.7317, 0.4286, 0.814],\n",
    "    [0.122, 0.0714, 0.0233],\n",
    "    [0.1463, 0.5, 0.1628]\n",
    "])\n",
    "\n",
    "# Calculate the sum of weights\n",
    "sum_of_weights_biaya_tenaga_kerja = normalized_matrix_biaya_tenaga_kerja.sum(axis=0)\n",
    "\n",
    "# Calculate the priority vector\n",
    "priority_vector_biaya_tenaga_kerja = sum_of_weights_biaya_tenaga_kerja / sum(sum_of_weights_biaya_tenaga_kerja)\n",
    "\n",
    "# Display the results\n",
    "print(\"\\nMatriks Nilai Alternatif Dalam Kriteria Biaya Tenaga Kerja (Normalisasi Nilai Eigen):\")\n",
    "print(normalized_matrix_biaya_tenaga_kerja)\n",
    "print(\"\\nJumlah Bobot Pada Alternatif Kriteria Biaya Tenaga Kerja:\")\n",
    "print(sum_of_weights_biaya_tenaga_kerja)\n",
    "print(\"\\nPrioritas Vector:\")\n",
    "print(priority_vector_biaya_tenaga_kerja)\n"
   ]
  },
  {
   "cell_type": "code",
   "execution_count": 14,
   "id": "80647cea",
   "metadata": {},
   "outputs": [
    {
     "name": "stdout",
     "output_type": "stream",
     "text": [
      "\n",
      "Matriks Perbandingan Alternatif Pada Kriteria Infrastruktur:\n",
      "[[1.   0.14 3.  ]\n",
      " [7.   1.   3.  ]\n",
      " [0.33 0.33 1.  ]]\n",
      "\n",
      "Matriks Normalisasi:\n",
      "[[0.24154589 0.03381643 0.72463768]\n",
      " [0.63636364 0.09090909 0.27272727]\n",
      " [0.19879518 0.19879518 0.60240964]]\n",
      "\n",
      "Jumlah Bobot Pada Alternatif Kriteria Infrastruktur:\n",
      "[1.07670471 0.3235207  1.59977459]\n",
      "\n",
      "Prioritas Vector:\n",
      "[0.35890157 0.10784023 0.5332582 ]\n"
     ]
    }
   ],
   "source": [
    "import numpy as np\n",
    "\n",
    "# Define the pairwise comparison matrix for alternative locations based on Infrastruktur\n",
    "comparison_matrix_infrastruktur = np.array([\n",
    "    [1, 0.14, 3],\n",
    "    [7, 1, 3],\n",
    "    [0.33, 0.33, 1]\n",
    "])\n",
    "\n",
    "# Calculate the normalized matrix\n",
    "row_sums_infrastruktur = comparison_matrix_infrastruktur.sum(axis=1)\n",
    "normalized_matrix_infrastruktur = comparison_matrix_infrastruktur / row_sums_infrastruktur[:, np.newaxis]\n",
    "\n",
    "# Calculate the sum of weights\n",
    "sum_of_weights_infrastruktur = normalized_matrix_infrastruktur.sum(axis=0)\n",
    "\n",
    "# Calculate the priority vector\n",
    "priority_vector_infrastruktur = sum_of_weights_infrastruktur / sum(sum_of_weights_infrastruktur)\n",
    "\n",
    "# Display the results\n",
    "print(\"\\nMatriks Perbandingan Alternatif Pada Kriteria Infrastruktur:\")\n",
    "print(comparison_matrix_infrastruktur)\n",
    "print(\"\\nMatriks Normalisasi:\")\n",
    "print(normalized_matrix_infrastruktur)\n",
    "print(\"\\nJumlah Bobot Pada Alternatif Kriteria Infrastruktur:\")\n",
    "print(sum_of_weights_infrastruktur)\n",
    "print(\"\\nPrioritas Vector:\")\n",
    "print(priority_vector_infrastruktur)\n"
   ]
  },
  {
   "cell_type": "code",
   "execution_count": 15,
   "id": "001c60c2",
   "metadata": {},
   "outputs": [
    {
     "name": "stdout",
     "output_type": "stream",
     "text": [
      "\n",
      "Matriks Perbandingan Alternatif Pada Kriteria Dampak Lingkungan:\n",
      "[[1.   7.   0.14]\n",
      " [0.14 1.   0.11]\n",
      " [7.   9.   1.  ]]\n",
      "\n",
      "Matriks Normalisasi:\n",
      "[[0.12285012 0.85995086 0.01719902]\n",
      " [0.112      0.8        0.088     ]\n",
      " [0.41176471 0.52941176 0.05882353]]\n",
      "\n",
      "Jumlah Bobot Pada Alternatif Kriteria Dampak Lingkungan:\n",
      "[0.64661483 2.18936262 0.16402255]\n",
      "\n",
      "Prioritas Vector:\n",
      "[0.21553828 0.72978754 0.05467418]\n"
     ]
    }
   ],
   "source": [
    "import numpy as np\n",
    "\n",
    "# Define the pairwise comparison matrix for alternative locations based on Dampak Lingkungan\n",
    "comparison_matrix_dampak_lingkungan = np.array([\n",
    "    [1, 7, 0.14],\n",
    "    [0.14, 1, 0.11],\n",
    "    [7, 9, 1]\n",
    "])\n",
    "\n",
    "# Calculate the normalized matrix\n",
    "row_sums_dampak_lingkungan = comparison_matrix_dampak_lingkungan.sum(axis=1)\n",
    "normalized_matrix_dampak_lingkungan = comparison_matrix_dampak_lingkungan / row_sums_dampak_lingkungan[:, np.newaxis]\n",
    "\n",
    "# Calculate the sum of weights\n",
    "sum_of_weights_dampak_lingkungan = normalized_matrix_dampak_lingkungan.sum(axis=0)\n",
    "\n",
    "# Calculate the priority vector\n",
    "priority_vector_dampak_lingkungan = sum_of_weights_dampak_lingkungan / sum(sum_of_weights_dampak_lingkungan)\n",
    "\n",
    "# Display the results\n",
    "print(\"\\nMatriks Perbandingan Alternatif Pada Kriteria Dampak Lingkungan:\")\n",
    "print(comparison_matrix_dampak_lingkungan)\n",
    "print(\"\\nMatriks Normalisasi:\")\n",
    "print(normalized_matrix_dampak_lingkungan)\n",
    "print(\"\\nJumlah Bobot Pada Alternatif Kriteria Dampak Lingkungan:\")\n",
    "print(sum_of_weights_dampak_lingkungan)\n",
    "print(\"\\nPrioritas Vector:\")\n",
    "print(priority_vector_dampak_lingkungan)\n"
   ]
  },
  {
   "cell_type": "code",
   "execution_count": 16,
   "id": "34367f9b",
   "metadata": {},
   "outputs": [
    {
     "name": "stdout",
     "output_type": "stream",
     "text": [
      "\n",
      "Matriks Nilai Alternatif Dalam Kriteria Dampak Lingkungan (Normalisasi Nilai Eigen):\n",
      "[[0.1228 0.4118 0.1139]\n",
      " [0.0175 0.0588 0.0886]\n",
      " [0.8596 0.5294 0.7975]]\n",
      "\n",
      "Jumlah Bobot Pada Alternatif Kriteria Dampak Lingkungan:\n",
      "[0.9999 1.     1.    ]\n",
      "\n",
      "Prioritas Vector:\n",
      "[0.33331111 0.33334444 0.33334444]\n"
     ]
    }
   ],
   "source": [
    "import numpy as np\n",
    "\n",
    "# Define the normalized matrix for alternative locations based on Dampak Lingkungan\n",
    "normalized_matrix_dampak_lingkungan = np.array([\n",
    "    [0.1228, 0.4118, 0.1139],\n",
    "    [0.0175, 0.0588, 0.0886],\n",
    "    [0.8596, 0.5294, 0.7975]\n",
    "])\n",
    "\n",
    "# Calculate the sum of weights\n",
    "sum_of_weights_dampak_lingkungan = normalized_matrix_dampak_lingkungan.sum(axis=0)\n",
    "\n",
    "# Calculate the priority vector\n",
    "priority_vector_dampak_lingkungan = sum_of_weights_dampak_lingkungan / sum(sum_of_weights_dampak_lingkungan)\n",
    "\n",
    "# Display the results\n",
    "print(\"\\nMatriks Nilai Alternatif Dalam Kriteria Dampak Lingkungan (Normalisasi Nilai Eigen):\")\n",
    "print(normalized_matrix_dampak_lingkungan)\n",
    "print(\"\\nJumlah Bobot Pada Alternatif Kriteria Dampak Lingkungan:\")\n",
    "print(sum_of_weights_dampak_lingkungan)\n",
    "print(\"\\nPrioritas Vector:\")\n",
    "print(priority_vector_dampak_lingkungan)\n"
   ]
  },
  {
   "cell_type": "code",
   "execution_count": null,
   "id": "117c6450",
   "metadata": {},
   "outputs": [],
   "source": [
    "#Potential Violence"
   ]
  },
  {
   "cell_type": "code",
   "execution_count": 17,
   "id": "14a3dfed",
   "metadata": {},
   "outputs": [
    {
     "name": "stdout",
     "output_type": "stream",
     "text": [
      "Skor Akhir untuk Lokasi A: 2.2969\n",
      "Skor Akhir untuk Lokasi B: 2.2969\n"
     ]
    }
   ],
   "source": [
    "import numpy as np\n",
    "\n",
    "# Define bobot dan prioritas untuk setiap kriteria\n",
    "kriteria_bobot = np.array([0.1888, 0.0417, 0.2938, 0.1529, 0.3228])\n",
    "kriteria_prioritas = np.array([3, 5, 2, 4, 1])\n",
    "\n",
    "# Menghitung skor akhir untuk setiap lokasi\n",
    "def hitung_skor_akhir(bobot, prioritas):\n",
    "    skor_lokasi = np.dot(bobot, prioritas)\n",
    "    return skor_lokasi\n",
    "\n",
    "# Hitung skor akhir untuk setiap lokasi\n",
    "skor_lokasi_A = hitung_skor_akhir(kriteria_bobot, kriteria_prioritas)\n",
    "skor_lokasi_B = hitung_skor_akhir(kriteria_bobot, kriteria_prioritas)\n",
    "\n",
    "# Menampilkan hasil\n",
    "print(\"Skor Akhir untuk Lokasi A:\", skor_lokasi_A)\n",
    "print(\"Skor Akhir untuk Lokasi B:\", skor_lokasi_B)\n"
   ]
  },
  {
   "cell_type": "code",
   "execution_count": 18,
   "id": "727fbcb2",
   "metadata": {},
   "outputs": [
    {
     "name": "stdout",
     "output_type": "stream",
     "text": [
      "Skor Akhir untuk Lokasi A: 2.2969\n",
      "Skor Akhir untuk Lokasi B: 2.2969\n"
     ]
    }
   ],
   "source": [
    "import numpy as np\n",
    "\n",
    "# Mendefinisikan bobot dan prioritas untuk setiap kriteria\n",
    "kriteria_bobot = np.array([0.1888, 0.0417, 0.2938, 0.1529, 0.3228])\n",
    "kriteria_prioritas = np.array([3, 5, 2, 4, 1])\n",
    "\n",
    "# Mendefinisikan bobot dan prioritas untuk setiap kriteria (lokasi A)\n",
    "lokasi_A_bobot = np.array([0.1888, 0.0417, 0.2938, 0.1529, 0.3228])\n",
    "lokasi_A_prioritas = np.array([3, 5, 2, 4, 1])\n",
    "\n",
    "# Mendefinisikan bobot dan prioritas untuk setiap kriteria (lokasi B)\n",
    "lokasi_B_bobot = np.array([0.1888, 0.0417, 0.2938, 0.1529, 0.3228])\n",
    "lokasi_B_prioritas = np.array([3, 5, 2, 4, 1])\n",
    "\n",
    "# Fungsi untuk menghitung skor akhir\n",
    "def hitung_skor_akhir(bobot, prioritas):\n",
    "    skor_lokasi = np.dot(bobot, prioritas)\n",
    "    return skor_lokasi\n",
    "\n",
    "# Menghitung skor akhir untuk setiap lokasi\n",
    "skor_lokasi_A = hitung_skor_akhir(lokasi_A_bobot, lokasi_A_prioritas)\n",
    "skor_lokasi_B = hitung_skor_akhir(lokasi_B_bobot, lokasi_B_prioritas)\n",
    "\n",
    "# Menampilkan hasil\n",
    "print(\"Skor Akhir untuk Lokasi A:\", skor_lokasi_A)\n",
    "print(\"Skor Akhir untuk Lokasi B:\", skor_lokasi_B)\n"
   ]
  },
  {
   "cell_type": "code",
   "execution_count": 19,
   "id": "4d8fe53f",
   "metadata": {},
   "outputs": [
    {
     "name": "stdout",
     "output_type": "stream",
     "text": [
      "Skor Akhir untuk Lokasi A: 4.28693416\n"
     ]
    }
   ],
   "source": [
    "import numpy as np\n",
    "\n",
    "# Mendefinisikan bobot dan prioritas untuk setiap kriteria\n",
    "kriteria_bobot = np.array([0.1888, 0.0417, 0.2938, 0.1529, 0.3228])\n",
    "kriteria_prioritas = np.array([3, 5, 2, 4, 1])\n",
    "\n",
    "# Mendefinisikan bobot dan prioritas untuk setiap lokasi\n",
    "lokasi_A_bobot = np.array([0.3166, 0.2749, 0.4085])\n",
    "lokasi_A_prioritas = np.array([2, 3, 1])\n",
    "\n",
    "# Fungsi untuk menghitung skor akhir\n",
    "def hitung_skor_akhir(bobot_kriteria, prioritas_kriteria, bobot_lokasi, prioritas_lokasi):\n",
    "    skor_lokasi = np.dot(bobot_kriteria, prioritas_kriteria) * np.dot(bobot_lokasi, prioritas_lokasi)\n",
    "    return skor_lokasi\n",
    "\n",
    "# Menghitung skor akhir untuk setiap lokasi\n",
    "skor_lokasi_A = hitung_skor_akhir(kriteria_bobot, kriteria_prioritas, lokasi_A_bobot, lokasi_A_prioritas)\n",
    "\n",
    "# Menampilkan hasil\n",
    "print(\"Skor Akhir untuk Lokasi A:\", skor_lokasi_A)\n"
   ]
  },
  {
   "cell_type": "code",
   "execution_count": null,
   "id": "4b098c56",
   "metadata": {},
   "outputs": [],
   "source": [
    "#StartHere"
   ]
  },
  {
   "cell_type": "code",
   "execution_count": 20,
   "id": "61763ea0",
   "metadata": {},
   "outputs": [
    {
     "name": "stdout",
     "output_type": "stream",
     "text": [
      "Skor Akhir untuk Lokasi: 4.28693416\n"
     ]
    }
   ],
   "source": [
    "import numpy as np\n",
    "\n",
    "# Mendefinisikan bobot dan prioritas untuk setiap kriteria\n",
    "kriteria_bobot = np.array([0.1888, 0.0417, 0.2938, 0.1529, 0.3228])\n",
    "kriteria_prioritas = np.array([3, 5, 2, 4, 1])\n",
    "\n",
    "# Mendefinisikan bobot dan prioritas untuk setiap lokasi\n",
    "lokasi_bobot = np.array([0.3166, 0.2749, 0.4085])\n",
    "lokasi_prioritas = np.array([2, 3, 1])\n",
    "\n",
    "# Fungsi untuk menghitung skor akhir\n",
    "def hitung_skor_akhir(bobot_kriteria, prioritas_kriteria, bobot_lokasi, prioritas_lokasi):\n",
    "    skor_lokasi = np.dot(bobot_kriteria, prioritas_kriteria) * np.dot(bobot_lokasi, prioritas_lokasi)\n",
    "    return skor_lokasi\n",
    "\n",
    "# Menghitung skor akhir untuk setiap lokasi\n",
    "skor_lokasi = hitung_skor_akhir(kriteria_bobot, kriteria_prioritas, lokasi_bobot, lokasi_prioritas)\n",
    "\n",
    "# Menampilkan hasil\n",
    "print(\"Skor Akhir untuk Lokasi:\", skor_lokasi)\n"
   ]
  },
  {
   "cell_type": "code",
   "execution_count": 21,
   "id": "5fef9207",
   "metadata": {},
   "outputs": [
    {
     "name": "stdout",
     "output_type": "stream",
     "text": [
      "Skor Akhir untuk Lokasi: 167.99040125760985\n"
     ]
    }
   ],
   "source": [
    "import numpy as np\n",
    "\n",
    "# Mendefinisikan bobot dan prioritas untuk setiap kriteria\n",
    "kriteria_bobot = np.array([2.198611111, 1.909027778, 2.836805556])\n",
    "kriteria_prioritas = np.array([2, 3, 1])\n",
    "\n",
    "# Mendefinisikan bobot dan prioritas untuk setiap lokasi\n",
    "lokasi_bobot = np.array([2.198611111, 1.909027778, 2.836805556])\n",
    "lokasi_prioritas = np.array([2, 3, 1])\n",
    "\n",
    "# Fungsi untuk menghitung skor akhir\n",
    "def hitung_skor_akhir(bobot_kriteria, prioritas_kriteria, bobot_lokasi, prioritas_lokasi):\n",
    "    skor_lokasi = np.dot(bobot_kriteria, prioritas_kriteria) * np.dot(bobot_lokasi, prioritas_lokasi)\n",
    "    return skor_lokasi\n",
    "\n",
    "# Menghitung skor akhir untuk setiap lokasi\n",
    "skor_lokasi = hitung_skor_akhir(kriteria_bobot, kriteria_prioritas, lokasi_bobot, lokasi_prioritas)\n",
    "\n",
    "# Menampilkan hasil\n",
    "print(\"Skor Akhir untuk Lokasi:\", skor_lokasi)\n"
   ]
  },
  {
   "cell_type": "code",
   "execution_count": null,
   "id": "2bba8c1e",
   "metadata": {},
   "outputs": [],
   "source": [
    "#EndHere"
   ]
  },
  {
   "cell_type": "code",
   "execution_count": null,
   "id": "c97c4b7d",
   "metadata": {},
   "outputs": [],
   "source": [
    "#StartHere"
   ]
  },
  {
   "cell_type": "code",
   "execution_count": 22,
   "id": "fdad316e",
   "metadata": {},
   "outputs": [
    {
     "name": "stdout",
     "output_type": "stream",
     "text": [
      "Bobot Lokasi A: 0.30303030303030304\n",
      "Bobot Lokasi B: 0.45454545454545453\n",
      "Bobot Lokasi C: 0.24242424242424243\n"
     ]
    }
   ],
   "source": [
    "import numpy as np\n",
    "\n",
    "# Mendefinisikan bobot dan prioritas untuk setiap kriteria\n",
    "kriteria_bobot = np.array([0.1888, 0.0417, 0.2938, 0.1529, 0.3228])\n",
    "kriteria_prioritas = np.array([3, 5, 2, 4, 1])\n",
    "\n",
    "# Mendefinisikan skor akhir untuk setiap lokasi\n",
    "skor_lokasi_A = 10  # Ganti dengan skor akhir yang telah dihitung untuk Lokasi A\n",
    "skor_lokasi_B = 15  # Ganti dengan skor akhir yang telah dihitung untuk Lokasi B\n",
    "skor_lokasi_C = 8   # Ganti dengan skor akhir yang telah dihitung untuk Lokasi C\n",
    "\n",
    "# Menghitung total skor akhir dari semua lokasi\n",
    "total_skor_akhir = skor_lokasi_A + skor_lokasi_B + skor_lokasi_C\n",
    "\n",
    "# Menghitung bobot untuk masing-masing lokasi\n",
    "bobot_lokasi_A = skor_lokasi_A / total_skor_akhir\n",
    "bobot_lokasi_B = skor_lokasi_B / total_skor_akhir\n",
    "bobot_lokasi_C = skor_lokasi_C / total_skor_akhir\n",
    "\n",
    "# Menampilkan hasil\n",
    "print(\"Bobot Lokasi A:\", bobot_lokasi_A)\n",
    "print(\"Bobot Lokasi B:\", bobot_lokasi_B)\n",
    "print(\"Bobot Lokasi C:\", bobot_lokasi_C)\n"
   ]
  }
 ],
 "metadata": {
  "kernelspec": {
   "display_name": "Python 3 (ipykernel)",
   "language": "python",
   "name": "python3"
  },
  "language_info": {
   "codemirror_mode": {
    "name": "ipython",
    "version": 3
   },
   "file_extension": ".py",
   "mimetype": "text/x-python",
   "name": "python",
   "nbconvert_exporter": "python",
   "pygments_lexer": "ipython3",
   "version": "3.11.4"
  }
 },
 "nbformat": 4,
 "nbformat_minor": 5
}
